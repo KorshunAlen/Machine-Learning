{
 "cells": [
  {
   "cell_type": "markdown",
   "id": "649579c7",
   "metadata": {},
   "source": [
    "# Линейная регрессия — Датасет Insurance\n",
    "\n",
    "Выполнение заданий из файла **01 - Линейная регрессия - ЛР - Insurance (Medical Cost Personal Datasets).pdf**"
   ]
  },
  {
   "cell_type": "code",
   "execution_count": null,
   "id": "94df8c53",
   "metadata": {},
   "outputs": [],
   "source": [
    "\n",
    "import numpy as np\n",
    "import pandas as pd\n",
    "import matplotlib.pyplot as plt\n",
    "import seaborn as sns\n",
    "\n",
    "from sklearn import linear_model, metrics, preprocessing\n",
    "from sklearn.model_selection import train_test_split\n",
    "from sklearn.preprocessing import MinMaxScaler, PolynomialFeatures\n",
    "from sklearn.linear_model import Lasso\n",
    "\n",
    "# Настройки отображения\n",
    "pd.set_option('display.float_format', lambda x: f'{x:.3f}')\n",
    "sns.set(style=\"whitegrid\", palette=\"muted\")\n"
   ]
  },
  {
   "cell_type": "code",
   "execution_count": null,
   "id": "5d02d5c1",
   "metadata": {},
   "outputs": [],
   "source": [
    "\n",
    "# Загружаем данные\n",
    "data = pd.read_csv(\"data/insurance.csv\")\n",
    "data.head()\n"
   ]
  },
  {
   "cell_type": "code",
   "execution_count": null,
   "id": "8e6161e8",
   "metadata": {},
   "outputs": [],
   "source": [
    "\n",
    "print(\"Размерность:\", data.shape)\n",
    "print(\"\\nПропуски:\")\n",
    "print(data.isnull().sum())\n",
    "\n",
    "data.info()\n"
   ]
  },
  {
   "cell_type": "code",
   "execution_count": null,
   "id": "b148be9d",
   "metadata": {},
   "outputs": [],
   "source": [
    "\n",
    "# Гистограммы числовых признаков\n",
    "data.hist(bins=20, figsize=(12, 8))\n",
    "plt.tight_layout()\n",
    "plt.show()\n",
    "\n",
    "# Boxplot для расходов по полу и курению\n",
    "plt.figure(figsize=(10, 5))\n",
    "sns.boxplot(x=\"smoker\", y=\"charges\", data=data)\n",
    "plt.title(\"Зависимость расходов от курения\")\n",
    "plt.show()\n"
   ]
  },
  {
   "cell_type": "code",
   "execution_count": null,
   "id": "834bcd26",
   "metadata": {},
   "outputs": [],
   "source": [
    "\n",
    "# Кодируем бинарные признаки\n",
    "data['smoker'] = data['smoker'].apply(lambda x: 0 if x == 'no' else 1)\n",
    "data['sex'] = data['sex'].apply(lambda x: 0 if x == 'female' else 1)\n",
    "\n",
    "# OneHot кодирование региона\n",
    "data = pd.get_dummies(data, drop_first=True)\n",
    "data.head()\n"
   ]
  },
  {
   "cell_type": "code",
   "execution_count": null,
   "id": "7d7c8f7c",
   "metadata": {},
   "outputs": [],
   "source": [
    "\n",
    "features = data.drop('charges', axis=1).columns\n",
    "X, y = data[features], data['charges']\n",
    "\n",
    "# Задание 1: train-test split\n",
    "X_train, X_test, y_train, y_test = train_test_split(X, y, test_size=0.2, random_state=42)\n",
    "print(\"Размер train:\", X_train.shape, \"Размер test:\", X_test.shape)\n"
   ]
  },
  {
   "cell_type": "code",
   "execution_count": null,
   "id": "f921707d",
   "metadata": {},
   "outputs": [],
   "source": [
    "\n",
    "# Задание 2: линейная регрессия\n",
    "lr = linear_model.LinearRegression()\n",
    "lr.fit(X_train, y_train)\n",
    "\n",
    "print(\"Свободный член (intercept):\", round(lr.intercept_, 2))\n",
    "\n",
    "# Предсказания\n",
    "y_train_pred = lr.predict(X_train)\n",
    "y_test_pred = lr.predict(X_test)\n",
    "\n",
    "# Метрики\n",
    "def regression_metrics(y_true, y_pred):\n",
    "    r2 = metrics.r2_score(y_true, y_pred)\n",
    "    mae = metrics.mean_absolute_error(y_true, y_pred)\n",
    "    mape = metrics.mean_absolute_percentage_error(y_true, y_pred) * 100\n",
    "    return r2, mae, mape\n",
    "\n",
    "print(\"Train:\", regression_metrics(y_train, y_train_pred))\n",
    "print(\"Test:\", regression_metrics(y_test, y_test_pred))\n"
   ]
  },
  {
   "cell_type": "code",
   "execution_count": null,
   "id": "ad9ac130",
   "metadata": {},
   "outputs": [],
   "source": [
    "\n",
    "# Задание 3: ошибки\n",
    "train_errors = y_train - y_train_pred\n",
    "test_errors = y_test - y_test_pred\n",
    "\n",
    "plt.figure(figsize=(8, 6))\n",
    "sns.boxplot(data=[train_errors, test_errors])\n",
    "plt.xticks([0, 1], [\"Train\", \"Test\"])\n",
    "plt.title(\"Распределение ошибок (y - y_hat)\")\n",
    "plt.show()\n"
   ]
  },
  {
   "cell_type": "code",
   "execution_count": null,
   "id": "69ff4d3c",
   "metadata": {},
   "outputs": [],
   "source": [
    "\n",
    "# Задание 4: нормализация + полиномиальные признаки\n",
    "scaler = MinMaxScaler()\n",
    "X_train_scaled = scaler.fit_transform(X_train)\n",
    "X_test_scaled = scaler.transform(X_test)\n",
    "\n",
    "poly = PolynomialFeatures(degree=2, include_bias=False)\n",
    "X_train_poly = poly.fit_transform(X_train_scaled)\n",
    "X_test_poly = poly.transform(X_test_scaled)\n",
    "\n",
    "print(\"Размерность после полиномиальных признаков:\", X_train_poly.shape[1])\n"
   ]
  },
  {
   "cell_type": "code",
   "execution_count": null,
   "id": "2aef290b",
   "metadata": {},
   "outputs": [],
   "source": [
    "\n",
    "# Задание 5: линейная регрессия на полиномиальных признаках\n",
    "lr_poly = linear_model.LinearRegression()\n",
    "lr_poly.fit(X_train_poly, y_train)\n",
    "\n",
    "y_test_poly_pred = lr_poly.predict(X_test_poly)\n",
    "r2_poly = metrics.r2_score(y_test, y_test_poly_pred)\n",
    "print(\"R2 на тесте:\", round(r2_poly, 3))\n"
   ]
  },
  {
   "cell_type": "code",
   "execution_count": null,
   "id": "a8d03054",
   "metadata": {},
   "outputs": [],
   "source": [
    "\n",
    "# Задание 6: коэффициенты модели\n",
    "coeffs = lr_poly.coef_\n",
    "print(\"Количество коэффициентов:\", len(coeffs))\n",
    "print(coeffs[:20])  # выводим первые 20 для примера\n",
    "\n",
    "print(\"\\nВывод: при больших коэффициентах модель может быть неустойчива, нужна регуляризация.\")\n"
   ]
  },
  {
   "cell_type": "code",
   "execution_count": null,
   "id": "ddd6a1af",
   "metadata": {},
   "outputs": [],
   "source": [
    "\n",
    "# Задание 7: Lasso-регрессия\n",
    "lasso = Lasso(alpha=1.0, max_iter=2000)\n",
    "lasso.fit(X_train_poly, y_train)\n",
    "y_test_lasso_pred = lasso.predict(X_test_poly)\n",
    "\n",
    "r2 = metrics.r2_score(y_test, y_test_lasso_pred)\n",
    "mae = metrics.mean_absolute_error(y_test, y_test_lasso_pred)\n",
    "mape = metrics.mean_absolute_percentage_error(y_test, y_test_lasso_pred) * 100\n",
    "\n",
    "print(\"Метрики Lasso на тесте:\")\n",
    "print(\"R2:\", round(r2, 3))\n",
    "print(\"MAE:\", round(mae, 0))\n",
    "print(\"MAPE:\", round(mape, 0), \"%\")\n"
   ]
  }
 ],
 "metadata": {},
 "nbformat": 4,
 "nbformat_minor": 5
}
