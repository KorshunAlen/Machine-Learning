{
 "cells": [
  {
   "cell_type": "markdown",
   "id": "b7610bb1",
   "metadata": {},
   "source": [
    "# Лабораторная работа №3 — Деревья решений\n",
    "\n",
    "Классификатор пола по голосу (датасет voice.csv).\n",
    "\n",
    "Задания взяты из файла *Лабораторная работа #3 - Деревья решений - Классификатор пола по голосу.pdf*"
   ]
  },
  {
   "cell_type": "code",
   "execution_count": null,
   "id": "cbdefad2",
   "metadata": {},
   "outputs": [],
   "source": [
    "\n",
    "import pandas as pd\n",
    "import matplotlib.pyplot as plt\n",
    "import seaborn as sns\n",
    "import numpy as np\n",
    "\n",
    "from sklearn import tree, model_selection, metrics\n",
    "from sklearn.model_selection import GridSearchCV, StratifiedKFold\n",
    "\n",
    "# Настройки графиков\n",
    "sns.set(style=\"whitegrid\", palette=\"muted\")\n"
   ]
  },
  {
   "cell_type": "code",
   "execution_count": null,
   "id": "92c49578",
   "metadata": {},
   "outputs": [],
   "source": [
    "\n",
    "# Загрузка данных (предполагается, что voice.csv находится в папке data/)\n",
    "voice_data = pd.read_csv(\"data/voice.csv\")\n",
    "voice_data.head()\n"
   ]
  },
  {
   "cell_type": "code",
   "execution_count": null,
   "id": "744fca56",
   "metadata": {},
   "outputs": [],
   "source": [
    "\n",
    "print(\"Размерность:\", voice_data.shape)\n",
    "print(\"\\nПропуски:\", voice_data.isnull().sum().sum())\n",
    "voice_data.info()\n"
   ]
  },
  {
   "cell_type": "code",
   "execution_count": null,
   "id": "ba0a0e2c",
   "metadata": {},
   "outputs": [],
   "source": [
    "\n",
    "X = voice_data.drop(\"label\", axis=1)\n",
    "y = voice_data[\"label\"]\n",
    "\n",
    "# Train-test split (80/20)\n",
    "X_train, X_test, y_train, y_test = model_selection.train_test_split(\n",
    "    X, y, test_size=0.2, stratify=y, random_state=42\n",
    ")\n",
    "\n",
    "print(\"Train shape:\", X_train.shape)\n",
    "print(\"Test shape:\", X_test.shape)\n"
   ]
  },
  {
   "cell_type": "markdown",
   "id": "753a3441",
   "metadata": {},
   "source": [
    "## Задание 1. Решающие пни (Decision Stumps)\n",
    "\n",
    "- Построим дерево глубины 1 с критерием энтропии.\n",
    "- Визуализируем.\n",
    "- Ответим на вопросы."
   ]
  },
  {
   "cell_type": "code",
   "execution_count": null,
   "id": "717b3734",
   "metadata": {},
   "outputs": [],
   "source": [
    "\n",
    "dt_stump = tree.DecisionTreeClassifier(max_depth=1, criterion=\"entropy\", random_state=42)\n",
    "dt_stump.fit(X_train, y_train)\n",
    "\n",
    "plt.figure(figsize=(12, 6))\n",
    "tree.plot_tree(dt_stump, feature_names=X.columns, class_names=dt_stump.classes_, filled=True)\n",
    "plt.show()\n",
    "\n",
    "# Фактор и порог в корне\n",
    "root_feature = dt_stump.tree_.feature[0]\n",
    "root_threshold = dt_stump.tree_.threshold[0]\n",
    "\n",
    "print(\"Фактор в корне:\", X.columns[root_feature])\n",
    "print(\"Пороговое значение:\", round(root_threshold, 3))\n",
    "\n",
    "# Доля наблюдений в условии корня\n",
    "mask = X_train.iloc[:, root_feature] <= root_threshold\n",
    "print(\"Доля наблюдений в условии:\", round(mask.mean() * 100, 1), \"%\")\n",
    "\n",
    "# Accuracy\n",
    "y_pred = dt_stump.predict(X_test)\n",
    "print(\"Accuracy:\", round(metrics.accuracy_score(y_test, y_pred), 3))\n"
   ]
  },
  {
   "cell_type": "markdown",
   "id": "059dca82",
   "metadata": {},
   "source": [
    "## Задание 2. Увеличим глубину дерева до 2\n",
    "\n",
    "- Строим дерево глубины 2.\n",
    "- Визуализируем.\n",
    "- Проверяем, какие факторы используются.\n",
    "- Считаем accuracy."
   ]
  },
  {
   "cell_type": "code",
   "execution_count": null,
   "id": "b1892290",
   "metadata": {},
   "outputs": [],
   "source": [
    "\n",
    "dt_depth2 = tree.DecisionTreeClassifier(max_depth=2, criterion=\"entropy\", random_state=42)\n",
    "dt_depth2.fit(X_train, y_train)\n",
    "\n",
    "plt.figure(figsize=(14, 7))\n",
    "tree.plot_tree(dt_depth2, feature_names=X.columns, class_names=dt_depth2.classes_, filled=True)\n",
    "plt.show()\n",
    "\n",
    "# Факторы, которые использовались\n",
    "features_used = set(X.columns[f] for f in dt_depth2.tree_.feature if f >= 0)\n",
    "print(\"Факторы, использованные в дереве:\", features_used)\n",
    "\n",
    "# Количество листьев с классом female\n",
    "leaf_values = dt_depth2.apply(X_train)\n",
    "leaf_classes = dt_depth2.predict(X_train)\n",
    "female_leaf_count = sum(\n",
    "    (leaf_classes[leaf_values == node] == \"female\").any() \n",
    "    for node in np.unique(leaf_values)\n",
    ")\n",
    "print(\"Количество листьев с классом female:\", female_leaf_count)\n",
    "\n",
    "# Accuracy\n",
    "y_pred2 = dt_depth2.predict(X_test)\n",
    "print(\"Accuracy:\", round(metrics.accuracy_score(y_test, y_pred2), 3))\n"
   ]
  },
  {
   "cell_type": "markdown",
   "id": "e5a85cea",
   "metadata": {},
   "source": [
    "## Задание 3. Глубокое дерево без ограничения глубины\n",
    "\n",
    "- Строим дерево с энтропией.\n",
    "- Смотрим глубину, количество листьев.\n",
    "- Сравниваем accuracy на train/test."
   ]
  },
  {
   "cell_type": "code",
   "execution_count": null,
   "id": "c0fa0120",
   "metadata": {},
   "outputs": [],
   "source": [
    "\n",
    "dt_full = tree.DecisionTreeClassifier(criterion=\"entropy\", random_state=0)\n",
    "dt_full.fit(X_train, y_train)\n",
    "\n",
    "print(\"Глубина дерева:\", dt_full.get_depth())\n",
    "print(\"Количество листьев:\", dt_full.get_n_leaves())\n",
    "\n",
    "y_train_pred = dt_full.predict(X_train)\n",
    "y_test_pred = dt_full.predict(X_test)\n",
    "\n",
    "print(\"Accuracy train:\", round(metrics.accuracy_score(y_train, y_train_pred), 3))\n",
    "print(\"Accuracy test:\", round(metrics.accuracy_score(y_test, y_test_pred), 3))\n"
   ]
  },
  {
   "cell_type": "markdown",
   "id": "7f411512",
   "metadata": {},
   "source": [
    "## Задание 4. Подбор гиперпараметров (GridSearchCV)\n",
    "\n",
    "- Используем критерии gini/entropy.\n",
    "- max_depth от 4 до 10.\n",
    "- min_samples_split [3, 4, 5, 10]."
   ]
  },
  {
   "cell_type": "code",
   "execution_count": null,
   "id": "9254190e",
   "metadata": {},
   "outputs": [],
   "source": [
    "\n",
    "param_grid = {\n",
    "    'criterion': ['gini', 'entropy'],\n",
    "    'max_depth': [4, 5, 6, 7, 8, 9, 10],\n",
    "    'min_samples_split': [3, 4, 5, 10]\n",
    "}\n",
    "\n",
    "cv = StratifiedKFold(n_splits=5)\n",
    "\n",
    "grid = GridSearchCV(tree.DecisionTreeClassifier(random_state=0),\n",
    "                    param_grid, cv=cv, scoring='accuracy', n_jobs=-1)\n",
    "grid.fit(X_train, y_train)\n",
    "\n",
    "best_model = grid.best_estimator_\n",
    "print(\"Лучшие параметры:\", grid.best_params_)\n",
    "\n",
    "# Accuracy на train/test\n",
    "y_train_best = best_model.predict(X_train)\n",
    "y_test_best = best_model.predict(X_test)\n",
    "\n",
    "print(\"Accuracy train:\", round(metrics.accuracy_score(y_train, y_train_best), 3))\n",
    "print(\"Accuracy test:\", round(metrics.accuracy_score(y_test, y_test_best), 3))\n"
   ]
  },
  {
   "cell_type": "markdown",
   "id": "60d6b4b5",
   "metadata": {},
   "source": [
    "## Задание 5. Важность факторов\n",
    "\n",
    "- Визуализируем feature importances.\n",
    "- Определим топ-3 факторов."
   ]
  },
  {
   "cell_type": "code",
   "execution_count": null,
   "id": "65968bcd",
   "metadata": {},
   "outputs": [],
   "source": [
    "\n",
    "importances = pd.Series(best_model.feature_importances_, index=X.columns)\n",
    "importances_sorted = importances.sort_values(ascending=False)\n",
    "\n",
    "plt.figure(figsize=(10, 6))\n",
    "sns.barplot(x=importances_sorted.values, y=importances_sorted.index)\n",
    "plt.title(\"Важность факторов (feature importance)\")\n",
    "plt.show()\n",
    "\n",
    "print(\"Топ-3 признаков:\")\n",
    "print(importances_sorted.head(3))\n"
   ]
  }
 ],
 "metadata": {},
 "nbformat": 4,
 "nbformat_minor": 5
}
